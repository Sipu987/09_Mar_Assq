{
 "cells": [
  {
   "cell_type": "code",
   "execution_count": 1,
   "id": "81759b4c",
   "metadata": {},
   "outputs": [],
   "source": [
    "#Ans.1\n",
    "# Probability Mass Distribution provides the distribution of discrete random variables. \n",
    "# Ex - Rolling a dice\n",
    "# Probability Density Function provides the distribution of continuous data\n",
    "#Ex - Height of student in a class"
   ]
  },
  {
   "cell_type": "code",
   "execution_count": 2,
   "id": "25264b7f",
   "metadata": {},
   "outputs": [],
   "source": [
    "#Ans.2 Cumulative Distribution function is used to describe the probability distribution of random \n",
    "# variables. Variables can be continuous, discrete or, both. Radom variable of populationis less\n",
    "# than certain number then we use CDF."
   ]
  },
  {
   "cell_type": "code",
   "execution_count": 1,
   "id": "c651afd4",
   "metadata": {},
   "outputs": [],
   "source": [
    "#Ans.3 Normal distribution mean, median and mode falls at the center. Example - Height of students\n",
    "# in a particicular class. To understand data distribution, 68% falls under +1 or, -1 unit standard deviation\n",
    "# , 95% data falls under +2 or, -2 unit standard deviation from mean,  99.7% data falls under +3 or, -3 \n",
    "# unit standard deviation from mean"
   ]
  },
  {
   "cell_type": "code",
   "execution_count": 2,
   "id": "9e747567",
   "metadata": {},
   "outputs": [],
   "source": [
    "#Ans.4 Distribution of blood pressure is example of normal distribution. Most import thing on normal \n",
    "# distribution is central threorum, shape of distribution and sampling mean.It's easy to calculate."
   ]
  },
  {
   "cell_type": "code",
   "execution_count": 3,
   "id": "f4d225f1",
   "metadata": {},
   "outputs": [],
   "source": [
    "# Ans.5 Bernaulli Distribution - provides distribution of discrete random variable. It's binary outcome.\n",
    "# Out come will be 1 or, 0. Example - Tossing a coin.\n",
    "#Binomial Distribution also provides distribution of discrete random variable with two outcome with\n",
    "# n number of times. Otcome for success is 'p'. Failure is q = 1-p, number of times is 'n'.\n",
    "# Mean = n * p\n",
    "# Variance = n * p * q\n",
    "# Std of npq"
   ]
  },
  {
   "cell_type": "code",
   "execution_count": 8,
   "id": "f9536e4f",
   "metadata": {},
   "outputs": [],
   "source": [
    "#Ans 6 -\n",
    "Mean = 50\n",
    "Std = 10\n",
    "x = 60"
   ]
  },
  {
   "cell_type": "code",
   "execution_count": 9,
   "id": "e01feb7a",
   "metadata": {},
   "outputs": [
    {
     "data": {
      "text/plain": [
       "0.025"
      ]
     },
     "execution_count": 9,
     "metadata": {},
     "output_type": "execute_result"
    }
   ],
   "source": [
    "pdf = 1/(Mean - Std)\n",
    "pdf"
   ]
  },
  {
   "cell_type": "code",
   "execution_count": 11,
   "id": "119f367e",
   "metadata": {},
   "outputs": [
    {
     "data": {
      "text/plain": [
       "1.0"
      ]
     },
     "execution_count": 11,
     "metadata": {},
     "output_type": "execute_result"
    }
   ],
   "source": [
    "z = (x - Mean)/Std\n",
    "z"
   ]
  },
  {
   "cell_type": "code",
   "execution_count": 14,
   "id": "92594110",
   "metadata": {},
   "outputs": [],
   "source": [
    "Z_Table = .84134"
   ]
  },
  {
   "cell_type": "code",
   "execution_count": 16,
   "id": "5884b6ce",
   "metadata": {},
   "outputs": [],
   "source": [
    "Prd = 1- Z_Table"
   ]
  },
  {
   "cell_type": "code",
   "execution_count": 18,
   "id": "8025c0d9",
   "metadata": {},
   "outputs": [
    {
     "data": {
      "text/plain": [
       "0.15866000000000002"
      ]
     },
     "execution_count": 18,
     "metadata": {},
     "output_type": "execute_result"
    }
   ],
   "source": [
    "Prd"
   ]
  },
  {
   "cell_type": "code",
   "execution_count": 20,
   "id": "a39a28a7",
   "metadata": {},
   "outputs": [],
   "source": [
    "# Ans.7 Uniform Distribution - Probability distribution where the out come ara equally likely out come.\n",
    "# Continuous uniform Dist is a infinite number of values defined in a range.\n",
    "# Discrete Uniform Dist is a finite number of value in a specific range."
   ]
  },
  {
   "cell_type": "code",
   "execution_count": 22,
   "id": "c8b2c236",
   "metadata": {},
   "outputs": [],
   "source": [
    "#Ans 8 Z-score describe position of data with respect to mean and standard deviation from central point.\n",
    "# Z-score determines how far data are spreading from mean."
   ]
  },
  {
   "cell_type": "code",
   "execution_count": 23,
   "id": "3a1f7078",
   "metadata": {},
   "outputs": [],
   "source": [
    "#Ans 9 - Central limit theorem states that the distribution of sample mean approximattes a normal\n",
    "# distribution as the sample size getts larger.\n",
    "# Let's population data distributed in normal distribution. If we select number of samples, then mean \n",
    "# oof each sample distributed as normal distribution."
   ]
  },
  {
   "cell_type": "code",
   "execution_count": 24,
   "id": "80fade0d",
   "metadata": {},
   "outputs": [],
   "source": [
    "#Ans. 10 Central limit theorem states that the sampling distribution of the mean will always follow\n",
    "# a normal distribution unnder the following conditions:-\n",
    "#1. Sample size is sufficiently large, size of sample is n > or = 30.\n",
    "#2. Samples are independent and identically distributed, the sample are random.\n",
    "#3. population's distribution has a finite variance."
   ]
  },
  {
   "cell_type": "code",
   "execution_count": null,
   "id": "b787ced2",
   "metadata": {},
   "outputs": [],
   "source": []
  }
 ],
 "metadata": {
  "kernelspec": {
   "display_name": "Python 3",
   "language": "python",
   "name": "python3"
  },
  "language_info": {
   "codemirror_mode": {
    "name": "ipython",
    "version": 3
   },
   "file_extension": ".py",
   "mimetype": "text/x-python",
   "name": "python",
   "nbconvert_exporter": "python",
   "pygments_lexer": "ipython3",
   "version": "3.8.8"
  }
 },
 "nbformat": 4,
 "nbformat_minor": 5
}
